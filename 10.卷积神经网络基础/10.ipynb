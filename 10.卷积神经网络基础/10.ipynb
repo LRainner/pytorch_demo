{
 "cells": [
  {
   "cell_type": "code",
   "execution_count": 2,
   "metadata": {},
   "outputs": [
    {
     "name": "stdout",
     "output_type": "stream",
     "text": [
      "torch.Size([1, 5, 100, 100])\n",
      "torch.Size([1, 10, 98, 98])\n",
      "torch.Size([10, 5, 3, 3])\n"
     ]
    }
   ],
   "source": [
    "import torch\n",
    "\n",
    "in_channeles, out_channels = 5, 10\n",
    "width, height = 100, 100\n",
    "kernel_size = 3\n",
    "batch_size = 1\n",
    "\n",
    "input = torch.randn(batch_size, in_channeles, width, height)\n",
    "\n",
    "conv_layer = torch.nn.Conv2d(in_channeles, out_channels, kernel_size)\n",
    "output = conv_layer(input)\n",
    "\n",
    "print(input.shape)\n",
    "print(output.shape)\n",
    "print(conv_layer.weight.shape)\n",
    "# torch.Size([10, 5, 3, 3])\n",
    "#     输出通道数，输入通道数，卷积核大小"
   ]
  },
  {
   "cell_type": "code",
   "execution_count": 7,
   "metadata": {},
   "outputs": [
    {
     "name": "stdout",
     "output_type": "stream",
     "text": [
      "tensor([[[[ 91., 168., 224., 215., 127.],\n",
      "          [114., 211., 295., 262., 149.],\n",
      "          [192., 259., 282., 214., 122.],\n",
      "          [194., 251., 253., 169.,  86.],\n",
      "          [ 96., 112., 110.,  68.,  31.]]]], grad_fn=<ConvolutionBackward0>)\n"
     ]
    }
   ],
   "source": [
    "# padding = 1\n",
    "\n",
    "import torch\n",
    "\n",
    "input =[3,4,6,5,7,\n",
    "        2,4,6,8,2,\n",
    "        1,6,7,8,4,\n",
    "        9,7,4,6,2,\n",
    "        3,7,5,4,1]\n",
    "\n",
    "input = torch.Tensor(input).view(1,1,5,5)\n",
    "\n",
    "conv_layer = torch.nn.Conv2d(in_channels=1, out_channels=1, kernel_size=3, padding=1, bias=False)\n",
    "\n",
    "kernel = torch.Tensor([1,2,3,4,5,6,7,8,9]).view(1,1,3,3)\n",
    "conv_layer.weight.data = kernel.data\n",
    "\n",
    "output = conv_layer(input)\n",
    "\n",
    "print(output)"
   ]
  },
  {
   "cell_type": "code",
   "execution_count": 8,
   "metadata": {},
   "outputs": [
    {
     "name": "stdout",
     "output_type": "stream",
     "text": [
      "tensor([[[[211., 262.],\n",
      "          [251., 169.]]]], grad_fn=<ConvolutionBackward0>)\n"
     ]
    }
   ],
   "source": [
    "# stride = 2\n",
    "\n",
    "import torch\n",
    "\n",
    "input =[3,4,6,5,7,\n",
    "        2,4,6,8,2,\n",
    "        1,6,7,8,4,\n",
    "        9,7,4,6,2,\n",
    "        3,7,5,4,1]\n",
    "\n",
    "input = torch.Tensor(input).view(1,1,5,5)\n",
    "\n",
    "conv_layer = torch.nn.Conv2d(in_channels=1, out_channels=1, kernel_size=3, stride=2, bias=False)\n",
    "\n",
    "kernel = torch.Tensor([1,2,3,4,5,6,7,8,9]).view(1,1,3,3)\n",
    "conv_layer.weight.data = kernel.data\n",
    "\n",
    "output = conv_layer(input)\n",
    "\n",
    "print(output)"
   ]
  },
  {
   "cell_type": "code",
   "execution_count": 9,
   "metadata": {},
   "outputs": [
    {
     "name": "stdout",
     "output_type": "stream",
     "text": [
      "tensor([[[[4, 8],\n",
      "          [9, 8]]]])\n"
     ]
    }
   ],
   "source": [
    "# max pooling layer\n",
    "\n",
    "import torch\n",
    "\n",
    "input = [3,4,6,5,\n",
    "        2,4,6,8,\n",
    "        1,6,7,8,\n",
    "        9,7,4,6,]\n",
    "\n",
    "input = torch.tensor(input).view(1,1,4,4)\n",
    "\n",
    "# max pooling layer\n",
    "maxpooling_layer = torch.nn.MaxPool2d(kernel_size=2)\n",
    "\n",
    "output = maxpooling_layer(input)\n",
    "\n",
    "print(output)"
   ]
  },
  {
   "cell_type": "code",
   "execution_count": 19,
   "metadata": {},
   "outputs": [
    {
     "name": "stderr",
     "output_type": "stream",
     "text": [
      "d:\\ProgramData\\miniconda3\\envs\\torch\\lib\\site-packages\\torch\\nn\\modules\\conv.py:456: UserWarning: Plan failed with a cudnnException: CUDNN_BACKEND_EXECUTION_PLAN_DESCRIPTOR: cudnnFinalize Descriptor Failed cudnn_status: CUDNN_STATUS_NOT_SUPPORTED (Triggered internally at C:\\cb\\pytorch_1000000000000\\work\\aten\\src\\ATen\\native\\cudnn\\Conv_v8.cpp:919.)\n",
      "  return F.conv2d(input, weight, bias, self.stride,\n"
     ]
    },
    {
     "name": "stdout",
     "output_type": "stream",
     "text": [
      "[1,   300] loss: 0.635\n",
      "[1,   600] loss: 0.192\n",
      "[1,   900] loss: 0.153\n",
      "Accuracy of the network on the 10000 test images: 96 %\n",
      "[2,   300] loss: 0.119\n",
      "[2,   600] loss: 0.099\n",
      "[2,   900] loss: 0.090\n",
      "Accuracy of the network on the 10000 test images: 97 %\n",
      "[3,   300] loss: 0.080\n",
      "[3,   600] loss: 0.076\n",
      "[3,   900] loss: 0.075\n",
      "Accuracy of the network on the 10000 test images: 98 %\n",
      "[4,   300] loss: 0.068\n",
      "[4,   600] loss: 0.064\n",
      "[4,   900] loss: 0.061\n",
      "Accuracy of the network on the 10000 test images: 98 %\n",
      "[5,   300] loss: 0.058\n",
      "[5,   600] loss: 0.052\n",
      "[5,   900] loss: 0.058\n",
      "Accuracy of the network on the 10000 test images: 98 %\n",
      "[6,   300] loss: 0.052\n",
      "[6,   600] loss: 0.052\n",
      "[6,   900] loss: 0.052\n",
      "Accuracy of the network on the 10000 test images: 98 %\n",
      "[7,   300] loss: 0.043\n",
      "[7,   600] loss: 0.048\n",
      "[7,   900] loss: 0.049\n",
      "Accuracy of the network on the 10000 test images: 98 %\n",
      "[8,   300] loss: 0.045\n",
      "[8,   600] loss: 0.042\n",
      "[8,   900] loss: 0.043\n",
      "Accuracy of the network on the 10000 test images: 98 %\n",
      "[9,   300] loss: 0.039\n",
      "[9,   600] loss: 0.043\n",
      "[9,   900] loss: 0.040\n",
      "Accuracy of the network on the 10000 test images: 98 %\n",
      "[10,   300] loss: 0.038\n",
      "[10,   600] loss: 0.037\n",
      "[10,   900] loss: 0.038\n",
      "Accuracy of the network on the 10000 test images: 98 %\n"
     ]
    }
   ],
   "source": [
    "# 一个简单的卷积神经网络\n",
    "import torch\n",
    "import torch.nn as nn\n",
    "import torch.nn.functional as F\n",
    "from torchvision import transforms, datasets\n",
    "from torch.utils.data import DataLoader\n",
    "import torch.optim as optim\n",
    "\n",
    "class Net(nn.Module):\n",
    "    def __init__(self):\n",
    "        super(Net, self).__init__()\n",
    "        self.conv1 = nn.Conv2d(1, 10, kernel_size=5)\n",
    "        self.pooling = nn.MaxPool2d(2)\n",
    "        self.conv2 = nn.Conv2d(10, 20, kernel_size=5)\n",
    "        self.fc = nn.Linear(320, 10)\n",
    "\n",
    "    def forward(self, x):\n",
    "        batch_size = x.size(0)\n",
    "        x = self.pooling(F.relu(self.conv1(x)))\n",
    "        x = self.pooling(F.relu(self.conv2(x)))\n",
    "        x = x.view(batch_size, -1)\n",
    "        x = self.fc(x)\n",
    "        return x\n",
    "\n",
    "batch_size = 64\n",
    "transform = transforms.Compose([transforms.ToTensor(), transforms.Normalize((0.1307,), (0.3081,))])\n",
    "\n",
    "train_dataset = datasets.MNIST(root='./datasets/mnist', train=True, download=True, transform=transform)\n",
    "train_loader = DataLoader(train_dataset, batch_size=batch_size, shuffle=True)\n",
    "\n",
    "test_dataset = datasets.MNIST(root='./datasets/mnist', train=False, download=True, transform=transform)\n",
    "test_loader = DataLoader(test_dataset, batch_size=batch_size, shuffle=False)\n",
    "\n",
    "model = Net()\n",
    "device = torch.device(\"cuda:0\" if torch.cuda.is_available() else \"cpu\")\n",
    "model.to(device)\n",
    "\n",
    "criterion = torch.nn.CrossEntropyLoss()\n",
    "optimizer = optim.SGD(model.parameters(), lr=0.01, momentum=0.5)\n",
    "\n",
    "def train(epoch):\n",
    "    model.train()\n",
    "    running_loss = 0.0\n",
    "    for batch_idx, data in enumerate(train_loader, 0):\n",
    "        inputs, target = data\n",
    "        inputs, target = inputs.to(device), target.to(device)\n",
    "        optimizer.zero_grad()\n",
    "\n",
    "        # forward + backward + update\n",
    "        outputs = model(inputs)\n",
    "        loss = criterion(outputs, target)\n",
    "        loss.backward()\n",
    "        optimizer.step()\n",
    "\n",
    "        running_loss += loss.item()\n",
    "        if batch_idx % 300 == 299:\n",
    "            print('[%d, %5d] loss: %.3f' % (epoch + 1, batch_idx + 1, running_loss / 300))\n",
    "            running_loss = 0.0\n",
    "\n",
    "def test():\n",
    "    model.eval()\n",
    "    correct = 0\n",
    "    total = 0\n",
    "\n",
    "    with torch.no_grad():\n",
    "        for data in test_loader:\n",
    "            images, labels = data\n",
    "            images, labels = images.to(device), labels.to(device)\n",
    "            outputs = model(images)\n",
    "            _, predicted = torch.max(outputs.data, dim=1)\n",
    "            total += labels.size(0)\n",
    "            correct += (predicted == labels).sum().item()\n",
    "\n",
    "    print('Accuracy of the network on the 10000 test images: %d %%' % (100 * correct / total))\n",
    "\n",
    "if __name__ == '__main__':\n",
    "    for epoch in range(10):\n",
    "        train(epoch)\n",
    "        test()"
   ]
  }
 ],
 "metadata": {
  "kernelspec": {
   "display_name": "torch",
   "language": "python",
   "name": "python3"
  },
  "language_info": {
   "codemirror_mode": {
    "name": "ipython",
    "version": 3
   },
   "file_extension": ".py",
   "mimetype": "text/x-python",
   "name": "python",
   "nbconvert_exporter": "python",
   "pygments_lexer": "ipython3",
   "version": "3.9.19"
  }
 },
 "nbformat": 4,
 "nbformat_minor": 2
}
